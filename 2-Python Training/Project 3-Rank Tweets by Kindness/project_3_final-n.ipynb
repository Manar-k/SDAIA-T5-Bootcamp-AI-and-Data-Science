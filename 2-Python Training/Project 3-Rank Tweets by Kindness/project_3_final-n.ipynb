{
  "nbformat": 4,
  "nbformat_minor": 0,
  "metadata": {
    "colab": {
      "provenance": []
    },
    "kernelspec": {
      "name": "python3",
      "display_name": "Python 3"
    },
    "language_info": {
      "name": "python"
    }
  },
  "cells": [
    {
      "cell_type": "markdown",
      "source": [
        "<p align = \"center\">\n",
        "<img src=\"https://academy.sdaia.gov.sa/assets/images/academy-logo.png\" align = \"center\" width=\"400\">\n",
        "</p>\n",
        "\n",
        "<p align = \"center\">\n",
        "<img src=\"https://upload.wikimedia.org/wikipedia/ar/9/96/%D8%B4%D8%B9%D8%A7%D8%B1_%D8%A3%D9%83%D8%A7%D8%AF%D9%8A%D9%85%D9%8A%D8%A9_%D8%B7%D9%88%D9%8A%D9%82.png\" align = \"center\" width=\"400\">\n",
        "</p>\n",
        "<div> </div>\n",
        "<div>\n",
        "<p><br><br></p>\n",
        "<h1 align=\"center\"><b>GROUP NO.7</b></h1>\n",
        "<h3 align=\"center\">Abdulrahman Ghazwani</h3>\n",
        "<h3 align=\"center\">Manar Khamees</h3>\n",
        "<h3 align=\"center\">Mussab Albargi</h3>\n",
        "</div>"
      ],
      "metadata": {
        "id": "Zu_vpyDOY3LZ"
      }
    },
    {
      "cell_type": "markdown",
      "source": [
        "# Project: Rank Tweets by Kindness\n",
        "\n",
        "**Sentiment Analysis**: Social media can be a great place to connect with others and share positive thoughts and experiences. However, it can also be a breeding ground for negativity and hate speech. This project aims to develop a system to rank tweets by kindness in order to promote more positive and supportive online interactions.\n",
        "\n",
        "**Benefits:**\n",
        "\n",
        "The proposed system has the potential to provide a number of benefits, including:\n",
        "\n",
        "- Promoting more positive and supportive online interactions\n",
        "- Reducing the spread of negativity and hate speech\n",
        "- Helping people to find and connect with others who share their values\n",
        "- Making social media a more enjoyable and welcoming place for everyone\n",
        "\n",
        "**Tasks:**\n",
        "\n",
        "The proposed system will use sentiment analysis to identify and rank tweets based on their level of kindness. This will be done by the following steps:\n",
        "\n",
        "1. Read the `nice_words.txt` file into a list. This file will contain a list of words that are typically associated with kindness, such as \"love,\" \"compassion,\" and \"gratitude.\"\n",
        "1. Read the `tweets.txt` file into a tweets list. This file will contain a collection of tweets to be ranked.\n",
        "1. Look at each of the tweets and count the number of nice words.\n",
        "1. Sort the tweets in descending order based on the number of nice words, with the most kind tweet first.\n",
        "1. Display the tweets, along with the count of nice words in each tweet.\n",
        "\n",
        "```\n",
        "sample tweets:\n",
        "[\n",
        "    \"great and awesome\",\n",
        "    \"what a good day\"\n",
        "]\n",
        "sample output:\n",
        "[\n",
        "    (\"great and awesome\", 2),\n",
        "    (\"what a good day\", 1),\n",
        "]\n",
        "```"
      ],
      "metadata": {
        "id": "41QkqxBjK56M"
      }
    },
    {
      "cell_type": "code",
      "source": [
        "'''\n",
        "1. Read the nice_words.txt file into a list. This file will contain a list of words that are typically\n",
        "associated with kindness, such as \"love,\" \"compassion,\" and \"gratitude.\"\n",
        "'''\n",
        "nice_words = open('/content/nice_words_v2.txt').read().split()"
      ],
      "metadata": {
        "id": "jMO73F0Fzh4c"
      },
      "execution_count": 63,
      "outputs": []
    },
    {
      "cell_type": "code",
      "source": [
        "print(nice_words)"
      ],
      "metadata": {
        "colab": {
          "base_uri": "https://localhost:8080/"
        },
        "id": "WTnM6AmMzpWx",
        "outputId": "60a63a03-7cc3-426b-d28b-a79184589df1"
      },
      "execution_count": 64,
      "outputs": [
        {
          "output_type": "stream",
          "name": "stdout",
          "text": [
            "['awesome', 'beautiful', 'brilliant', 'caring', 'charming', 'clever', 'courageous', 'creative', 'delightful', 'excellent', 'fantastic', 'friendly', 'generous', 'gentle', 'genuine', 'glorious', 'good', 'great', 'helpful', 'honest', 'intelligent', 'kind', 'loving', 'marvelous', 'neat', 'noble', 'outstanding', 'perfect', 'pleasant', 'polite', 'positive', 'precious', 'pretty', 'proud', 'qualified', 'radiant', 'reliable', 'remarkable', 'responsible', 'respectful', 'responsible', 'safe', 'satisfied', 'secure', 'sensible', 'sensational', 'sincere', 'skillful', 'smart', 'splendid', 'stunning', 'superb', 'talented', 'terrific', 'thoughtful', 'tremendous', 'trustworthy', 'valuable', 'wonderful', 'zealous', 'grateful', 'amazing', 'wonderful', 'beautiful', 'sweet', 'merry', 'bright', 'perfect', 'kind', 'generous', 'willing', 'help', 'role', 'model', 'loved', 'intelligent', 'talented', 'bright', 'passionate', 'difference', 'good', 'vibes', 'beautiful']\n"
          ]
        }
      ]
    },
    {
      "cell_type": "code",
      "source": [
        "# number of words\n",
        "len(nice_words)"
      ],
      "metadata": {
        "colab": {
          "base_uri": "https://localhost:8080/"
        },
        "id": "7uEnpOEE0Y_S",
        "outputId": "14cedd83-04a8-4364-82b0-0e9ba29e52df"
      },
      "execution_count": 65,
      "outputs": [
        {
          "output_type": "execute_result",
          "data": {
            "text/plain": [
              "83"
            ]
          },
          "metadata": {},
          "execution_count": 65
        }
      ]
    },
    {
      "cell_type": "code",
      "source": [
        "'''\n",
        "2. Read the tweets.txt file into a tweets list.\n",
        "This file will contain a collection of tweets to be ranked.\n",
        "'''\n",
        "file = open('/content/tweets.txt', 'r')\n",
        "print(file.read())\n",
        "file.close()"
      ],
      "metadata": {
        "colab": {
          "base_uri": "https://localhost:8080/"
        },
        "id": "_zxyOLGDy25v",
        "outputId": "628ad5fa-15e8-476a-b02b-b14e91172f77"
      },
      "execution_count": 66,
      "outputs": [
        {
          "output_type": "stream",
          "name": "stdout",
          "text": [
            "Grateful for the amazing people in my life who make it so wonderful\n",
            "The beautiful flowers were in full bloom and the sweet scent filled the air . The birds were singing merrily and the sun was shining brightly . It was a perfect day\n",
            "The kind and generous old man was always willing to help others . He was a role model for the entire community and he was loved by everyone\n",
            "The intelligent and talented young woman had a bright future ahead of her . She was passionate about her work and she was determined to make a difference in the world\n",
            "Sending out good vibes to everyone today! Have a beautiful day!\n"
          ]
        }
      ]
    },
    {
      "cell_type": "code",
      "source": [
        "tweets = open('/content/tweets.txt').read().split(\"\\n\")"
      ],
      "metadata": {
        "id": "V2dh2-4e1T4u"
      },
      "execution_count": 67,
      "outputs": []
    },
    {
      "cell_type": "code",
      "source": [
        "tweets"
      ],
      "metadata": {
        "colab": {
          "base_uri": "https://localhost:8080/"
        },
        "id": "HaZdPXf_1oHC",
        "outputId": "d6941199-8a90-4e2a-fe82-10b1fb76a316"
      },
      "execution_count": 68,
      "outputs": [
        {
          "output_type": "execute_result",
          "data": {
            "text/plain": [
              "['Grateful for the amazing people in my life who make it so wonderful',\n",
              " 'The beautiful flowers were in full bloom and the sweet scent filled the air . The birds were singing merrily and the sun was shining brightly . It was a perfect day',\n",
              " 'The kind and generous old man was always willing to help others . He was a role model for the entire community and he was loved by everyone',\n",
              " 'The intelligent and talented young woman had a bright future ahead of her . She was passionate about her work and she was determined to make a difference in the world',\n",
              " 'Sending out good vibes to everyone today! Have a beautiful day!']"
            ]
          },
          "metadata": {},
          "execution_count": 68
        }
      ]
    },
    {
      "cell_type": "code",
      "source": [
        "import re"
      ],
      "metadata": {
        "id": "BX8DFV1MCgRc"
      },
      "execution_count": 69,
      "outputs": []
    },
    {
      "cell_type": "code",
      "source": [
        "# using regular expresion to split tweets\n",
        "twe = re.split(r'(\\.|\\n|\\!)', open('/content/tweets.txt').read())"
      ],
      "metadata": {
        "id": "4joNc8VQ_Znp"
      },
      "execution_count": 70,
      "outputs": []
    },
    {
      "cell_type": "code",
      "source": [
        "twe"
      ],
      "metadata": {
        "colab": {
          "base_uri": "https://localhost:8080/"
        },
        "id": "bh6P1O-0I4ef",
        "outputId": "2592f2e4-c024-46c3-b874-1ee4af9295ae"
      },
      "execution_count": 71,
      "outputs": [
        {
          "output_type": "execute_result",
          "data": {
            "text/plain": [
              "['Grateful for the amazing people in my life who make it so wonderful',\n",
              " '\\n',\n",
              " 'The beautiful flowers were in full bloom and the sweet scent filled the air ',\n",
              " '.',\n",
              " ' The birds were singing merrily and the sun was shining brightly ',\n",
              " '.',\n",
              " ' It was a perfect day',\n",
              " '\\n',\n",
              " 'The kind and generous old man was always willing to help others ',\n",
              " '.',\n",
              " ' He was a role model for the entire community and he was loved by everyone',\n",
              " '\\n',\n",
              " 'The intelligent and talented young woman had a bright future ahead of her ',\n",
              " '.',\n",
              " ' She was passionate about her work and she was determined to make a difference in the world',\n",
              " '\\n',\n",
              " 'Sending out good vibes to everyone today',\n",
              " '!',\n",
              " ' Have a beautiful day',\n",
              " '!',\n",
              " '']"
            ]
          },
          "metadata": {},
          "execution_count": 71
        }
      ]
    },
    {
      "cell_type": "code",
      "source": [
        "# clean the tweets by remove character ., !, \\n.\n",
        "c_tweets = []\n",
        "clean = ['\\n','.','!','']\n",
        "for i in twe:\n",
        "  if i not in clean:\n",
        "    c_tweets.append(i.lower())"
      ],
      "metadata": {
        "id": "tBHfWEByJIEF"
      },
      "execution_count": 72,
      "outputs": []
    },
    {
      "cell_type": "code",
      "source": [
        "c_tweets"
      ],
      "metadata": {
        "colab": {
          "base_uri": "https://localhost:8080/"
        },
        "id": "h1sEYy2IJyNn",
        "outputId": "d5afb925-637b-4461-cab2-67fcb7ea69b7"
      },
      "execution_count": 73,
      "outputs": [
        {
          "output_type": "execute_result",
          "data": {
            "text/plain": [
              "['grateful for the amazing people in my life who make it so wonderful',\n",
              " 'the beautiful flowers were in full bloom and the sweet scent filled the air ',\n",
              " ' the birds were singing merrily and the sun was shining brightly ',\n",
              " ' it was a perfect day',\n",
              " 'the kind and generous old man was always willing to help others ',\n",
              " ' he was a role model for the entire community and he was loved by everyone',\n",
              " 'the intelligent and talented young woman had a bright future ahead of her ',\n",
              " ' she was passionate about her work and she was determined to make a difference in the world',\n",
              " 'sending out good vibes to everyone today',\n",
              " ' have a beautiful day']"
            ]
          },
          "metadata": {},
          "execution_count": 73
        }
      ]
    },
    {
      "cell_type": "code",
      "source": [
        "c_tweets[0]"
      ],
      "metadata": {
        "colab": {
          "base_uri": "https://localhost:8080/",
          "height": 35
        },
        "id": "0Qnb0lEhJ2-n",
        "outputId": "f5794ee0-58e2-4318-c92d-6b06713831c3"
      },
      "execution_count": 74,
      "outputs": [
        {
          "output_type": "execute_result",
          "data": {
            "text/plain": [
              "'grateful for the amazing people in my life who make it so wonderful'"
            ],
            "application/vnd.google.colaboratory.intrinsic+json": {
              "type": "string"
            }
          },
          "metadata": {},
          "execution_count": 74
        }
      ]
    },
    {
      "cell_type": "code",
      "source": [
        "'''\n",
        "normalize text using stemming\n",
        "stemming: delete suffix and get the root word.\n",
        "'''\n",
        "from nltk.stem import LancasterStemmer\n",
        "# function to convert adv to adj such as merrily, brightly.\n",
        "def convert_adv(tweets):\n",
        "  adv_words=[]\n",
        "  for t in range(len(tweets)):\n",
        "    wordsTweet = tweets[t].split()\n",
        "    for w in range(len(wordsTweet)):\n",
        "      if wordsTweet[w].endswith('ly'):\n",
        "        wordsTweet[w] = LancasterStemmer().stem(wordsTweet[w])\n",
        "    adv_words.append(' '.join(wordsTweet))\n",
        "  return adv_words\n",
        "\n",
        "\n",
        "n_tweets = convert_adv(c_tweets)\n",
        "\n",
        "n_tweets"
      ],
      "metadata": {
        "colab": {
          "base_uri": "https://localhost:8080/"
        },
        "id": "7-5V1GfC50lD",
        "outputId": "1ee7e9ec-aeab-4835-89c1-7854b322c65f"
      },
      "execution_count": 75,
      "outputs": [
        {
          "output_type": "execute_result",
          "data": {
            "text/plain": [
              "['grateful for the amazing people in my life who make it so wonderful',\n",
              " 'the beautiful flowers were in full bloom and the sweet scent filled the air',\n",
              " 'the birds were singing merry and the sun was shining bright',\n",
              " 'it was a perfect day',\n",
              " 'the kind and generous old man was always willing to help others',\n",
              " 'he was a role model for the entire community and he was loved by everyone',\n",
              " 'the intelligent and talented young woman had a bright future ahead of her',\n",
              " 'she was passionate about her work and she was determined to make a difference in the world',\n",
              " 'sending out good vibes to everyone today',\n",
              " 'have a beautiful day']"
            ]
          },
          "metadata": {},
          "execution_count": 75
        }
      ]
    },
    {
      "cell_type": "code",
      "source": [
        "'''\n",
        "3. Look at each of the tweets and count the number of nice words.\n",
        "'''\n",
        "count = 0\n",
        "l1_count = []\n",
        "for t in n_tweets:\n",
        "  for n in set(nice_words):\n",
        "    if n in t:\n",
        "      count +=1\n",
        "  l1_count.append(count)\n",
        "  print(t, count)\n",
        "  count = 0"
      ],
      "metadata": {
        "colab": {
          "base_uri": "https://localhost:8080/"
        },
        "id": "kob9Y2l0Ob7d",
        "outputId": "151108d0-74d4-4911-a7ae-8ee2c7d4c244"
      },
      "execution_count": 76,
      "outputs": [
        {
          "output_type": "stream",
          "name": "stdout",
          "text": [
            "grateful for the amazing people in my life who make it so wonderful 3\n",
            "the beautiful flowers were in full bloom and the sweet scent filled the air 2\n",
            "the birds were singing merry and the sun was shining bright 2\n",
            "it was a perfect day 1\n",
            "the kind and generous old man was always willing to help others 4\n",
            "he was a role model for the entire community and he was loved by everyone 3\n",
            "the intelligent and talented young woman had a bright future ahead of her 3\n",
            "she was passionate about her work and she was determined to make a difference in the world 2\n",
            "sending out good vibes to everyone today 2\n",
            "have a beautiful day 1\n"
          ]
        }
      ]
    },
    {
      "cell_type": "code",
      "source": [
        "# list of the number of nice words for each tweet.\n",
        "l1_count"
      ],
      "metadata": {
        "colab": {
          "base_uri": "https://localhost:8080/"
        },
        "id": "wLgw2ViuivWv",
        "outputId": "1a108965-a7c5-4cc5-a4cb-364ca03df7d7"
      },
      "execution_count": 77,
      "outputs": [
        {
          "output_type": "execute_result",
          "data": {
            "text/plain": [
              "[3, 2, 2, 1, 4, 3, 3, 2, 2, 1]"
            ]
          },
          "metadata": {},
          "execution_count": 77
        }
      ]
    },
    {
      "cell_type": "code",
      "source": [
        "# list of tuples\n",
        "def merge(l1,l2):\n",
        "  m_list = []\n",
        "  for i in range(0, len(l1)):\n",
        "    m_list += [(l1[i], l2[i])]\n",
        "  return m_list\n",
        "\n",
        "merge(n_tweets,l1_count)"
      ],
      "metadata": {
        "colab": {
          "base_uri": "https://localhost:8080/"
        },
        "id": "DK7YVhb5APIW",
        "outputId": "267010fa-4bc5-44cb-aafe-21722ed8b0c4"
      },
      "execution_count": 81,
      "outputs": [
        {
          "output_type": "execute_result",
          "data": {
            "text/plain": [
              "[('grateful for the amazing people in my life who make it so wonderful', 3),\n",
              " ('the beautiful flowers were in full bloom and the sweet scent filled the air',\n",
              "  2),\n",
              " ('the birds were singing merry and the sun was shining bright', 2),\n",
              " ('it was a perfect day', 1),\n",
              " ('the kind and generous old man was always willing to help others', 4),\n",
              " ('he was a role model for the entire community and he was loved by everyone',\n",
              "  3),\n",
              " ('the intelligent and talented young woman had a bright future ahead of her',\n",
              "  3),\n",
              " ('she was passionate about her work and she was determined to make a difference in the world',\n",
              "  2),\n",
              " ('sending out good vibes to everyone today', 2),\n",
              " ('have a beautiful day', 1)]"
            ]
          },
          "metadata": {},
          "execution_count": 81
        }
      ]
    },
    {
      "cell_type": "code",
      "source": [
        "'''\n",
        "4. Sort the tweets in descending order based on the number of nice words, with the most kind tweet first.\n",
        "'''\n",
        "sort_tweets = merge(n_tweets,l1_count)\n",
        "\n",
        "sort_tweets.sort(key = lambda t:t[1], reverse = True)\n",
        "sort_tweets"
      ],
      "metadata": {
        "colab": {
          "base_uri": "https://localhost:8080/"
        },
        "id": "i65c03gydhk_",
        "outputId": "da3b4605-fb67-4541-ec1d-72cbe5b28b62"
      },
      "execution_count": 82,
      "outputs": [
        {
          "output_type": "execute_result",
          "data": {
            "text/plain": [
              "[('the kind and generous old man was always willing to help others', 4),\n",
              " ('grateful for the amazing people in my life who make it so wonderful', 3),\n",
              " ('he was a role model for the entire community and he was loved by everyone',\n",
              "  3),\n",
              " ('the intelligent and talented young woman had a bright future ahead of her',\n",
              "  3),\n",
              " ('the beautiful flowers were in full bloom and the sweet scent filled the air',\n",
              "  2),\n",
              " ('the birds were singing merry and the sun was shining bright', 2),\n",
              " ('she was passionate about her work and she was determined to make a difference in the world',\n",
              "  2),\n",
              " ('sending out good vibes to everyone today', 2),\n",
              " ('it was a perfect day', 1),\n",
              " ('have a beautiful day', 1)]"
            ]
          },
          "metadata": {},
          "execution_count": 82
        }
      ]
    },
    {
      "cell_type": "code",
      "source": [
        "'''\n",
        "5. Display the tweets, along with the count of nice words in each tweet.\n",
        "'''\n",
        "print(sort_tweets)"
      ],
      "metadata": {
        "colab": {
          "base_uri": "https://localhost:8080/"
        },
        "id": "SysQ_GLEOQpc",
        "outputId": "04ed77ec-e316-489a-bc98-9db314aa27a8"
      },
      "execution_count": 83,
      "outputs": [
        {
          "output_type": "stream",
          "name": "stdout",
          "text": [
            "[('the kind and generous old man was always willing to help others', 4), ('grateful for the amazing people in my life who make it so wonderful', 3), ('he was a role model for the entire community and he was loved by everyone', 3), ('the intelligent and talented young woman had a bright future ahead of her', 3), ('the beautiful flowers were in full bloom and the sweet scent filled the air', 2), ('the birds were singing merry and the sun was shining bright', 2), ('she was passionate about her work and she was determined to make a difference in the world', 2), ('sending out good vibes to everyone today', 2), ('it was a perfect day', 1), ('have a beautiful day', 1)]\n"
          ]
        }
      ]
    }
  ]
}